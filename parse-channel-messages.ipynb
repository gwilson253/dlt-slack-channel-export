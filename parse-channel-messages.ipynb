{
 "cells": [
  {
   "cell_type": "code",
   "execution_count": 1,
   "id": "949ad770-689c-4cd5-8936-83a60a3ce524",
   "metadata": {},
   "outputs": [],
   "source": [
    "import duckdb\n",
    "import pandas as pd\n",
    "import numpy as np\n",
    "\n",
    "con = duckdb.connect('slack.duckdb')\n",
    "pd.set_option('display.float_format', str)"
   ]
  },
  {
   "cell_type": "markdown",
   "id": "508fbd0b-0c46-441b-aa2e-eb3d566fed93",
   "metadata": {},
   "source": [
    "# Fetch key columns from extracted data & build channel message dataframe"
   ]
  },
  {
   "cell_type": "code",
   "execution_count": 2,
   "id": "a5aa2b9e-dc00-4494-b7f1-bf1c1a1cd8d6",
   "metadata": {},
   "outputs": [],
   "source": [
    "messages_df = con.execute(\"SELECT user, epoch_us(thread_ts)/1000000 as thread_ts, epoch_us(ts) / 1000000 as ts, text FROM slack_export.export_test_message;\").fetchdf()"
   ]
  },
  {
   "cell_type": "code",
   "execution_count": 3,
   "id": "1dd7fad5-4b9c-479f-8f6d-349588d42ce0",
   "metadata": {},
   "outputs": [],
   "source": [
    "replies_df = con.execute(\"SELECT user, thread_ts, ts, text FROM slack_export.export_test_replies_message;\").fetchdf()"
   ]
  },
  {
   "cell_type": "code",
   "execution_count": 4,
   "id": "12dca5d4-cc84-4895-8e11-c7f6c879511a",
   "metadata": {},
   "outputs": [],
   "source": [
    "replies_df['thread_ts'] = replies_df['thread_ts'].astype(float)\n",
    "replies_df['ts'] = replies_df['ts'].astype(float)"
   ]
  },
  {
   "cell_type": "code",
   "execution_count": 5,
   "id": "2d04e117-29fb-4c72-99b5-487e422f1eeb",
   "metadata": {},
   "outputs": [],
   "source": [
    "df = pd.concat([messages_df, replies_df])\n",
    "df.sort_values(['thread_ts'], inplace=True)\n",
    "df['ts'] = pd.to_datetime(df['ts'], unit='us')"
   ]
  },
  {
   "cell_type": "code",
   "execution_count": 6,
   "id": "209bdcfc-3db4-4c14-918a-ce22dfe09cd6",
   "metadata": {},
   "outputs": [
    {
     "data": {
      "text/html": [
       "<div>\n",
       "<style scoped>\n",
       "    .dataframe tbody tr th:only-of-type {\n",
       "        vertical-align: middle;\n",
       "    }\n",
       "\n",
       "    .dataframe tbody tr th {\n",
       "        vertical-align: top;\n",
       "    }\n",
       "\n",
       "    .dataframe thead th {\n",
       "        text-align: right;\n",
       "    }\n",
       "</style>\n",
       "<table border=\"1\" class=\"dataframe\">\n",
       "  <thead>\n",
       "    <tr style=\"text-align: right;\">\n",
       "      <th></th>\n",
       "      <th>user</th>\n",
       "      <th>thread_ts</th>\n",
       "      <th>ts</th>\n",
       "      <th>text</th>\n",
       "    </tr>\n",
       "  </thead>\n",
       "  <tbody>\n",
       "    <tr>\n",
       "      <th>1</th>\n",
       "      <td>U08J3DV7SAJ</td>\n",
       "      <td>1742934604.227359</td>\n",
       "      <td>1970-01-01 00:29:02.934604227</td>\n",
       "      <td>Conversation #1 start</td>\n",
       "    </tr>\n",
       "    <tr>\n",
       "      <th>2</th>\n",
       "      <td>U08JBSW64Q2</td>\n",
       "      <td>1742934604.227359</td>\n",
       "      <td>1970-01-01 00:29:02.934627187</td>\n",
       "      <td>conversation #1 | response #1</td>\n",
       "    </tr>\n",
       "    <tr>\n",
       "      <th>3</th>\n",
       "      <td>U08J3DV7SAJ</td>\n",
       "      <td>1742934604.227359</td>\n",
       "      <td>1970-01-01 00:29:02.934639155</td>\n",
       "      <td>conversation #1 | response #2</td>\n",
       "    </tr>\n",
       "    <tr>\n",
       "      <th>0</th>\n",
       "      <td>U08JBSW64Q2</td>\n",
       "      <td>1742934651.309429</td>\n",
       "      <td>1970-01-01 00:29:02.934651309</td>\n",
       "      <td>Conversation #2 start</td>\n",
       "    </tr>\n",
       "    <tr>\n",
       "      <th>0</th>\n",
       "      <td>U08J3DV7SAJ</td>\n",
       "      <td>1742934651.309429</td>\n",
       "      <td>1970-01-01 00:29:02.934671323</td>\n",
       "      <td>Conversation #2 | response #1</td>\n",
       "    </tr>\n",
       "    <tr>\n",
       "      <th>1</th>\n",
       "      <td>U08JBSW64Q2</td>\n",
       "      <td>1742934651.309429</td>\n",
       "      <td>1970-01-01 00:29:02.934679083</td>\n",
       "      <td>Conversation #2 | response #2</td>\n",
       "    </tr>\n",
       "  </tbody>\n",
       "</table>\n",
       "</div>"
      ],
      "text/plain": [
       "          user         thread_ts                            ts  \\\n",
       "1  U08J3DV7SAJ 1742934604.227359 1970-01-01 00:29:02.934604227   \n",
       "2  U08JBSW64Q2 1742934604.227359 1970-01-01 00:29:02.934627187   \n",
       "3  U08J3DV7SAJ 1742934604.227359 1970-01-01 00:29:02.934639155   \n",
       "0  U08JBSW64Q2 1742934651.309429 1970-01-01 00:29:02.934651309   \n",
       "0  U08J3DV7SAJ 1742934651.309429 1970-01-01 00:29:02.934671323   \n",
       "1  U08JBSW64Q2 1742934651.309429 1970-01-01 00:29:02.934679083   \n",
       "\n",
       "                            text  \n",
       "1          Conversation #1 start  \n",
       "2  conversation #1 | response #1  \n",
       "3  conversation #1 | response #2  \n",
       "0          Conversation #2 start  \n",
       "0  Conversation #2 | response #1  \n",
       "1  Conversation #2 | response #2  "
      ]
     },
     "execution_count": 6,
     "metadata": {},
     "output_type": "execute_result"
    }
   ],
   "source": [
    "df.head(10)"
   ]
  },
  {
   "cell_type": "markdown",
   "id": "f40738a3-af9b-43dd-86fe-54e236670c0b",
   "metadata": {},
   "source": [
    "# Parse the messages into \"documents\""
   ]
  },
  {
   "cell_type": "code",
   "execution_count": 7,
   "id": "42acfc75-afa1-47bf-b6e1-3f0a5b258665",
   "metadata": {},
   "outputs": [],
   "source": [
    "df['output'] = df.apply(lambda r : f'{r['user']} | {r['ts']} | {r['text']}', 1)"
   ]
  },
  {
   "cell_type": "code",
   "execution_count": 8,
   "id": "d766a9da-fd83-4fe4-9b57-61784b7a54ec",
   "metadata": {},
   "outputs": [],
   "source": [
    "doc_df = df.groupby('thread_ts')['output'].agg('\\n'.join).reset_index()"
   ]
  },
  {
   "cell_type": "code",
   "execution_count": 9,
   "id": "1a4d7c5b-15e7-4afb-8df4-3820da1358a3",
   "metadata": {},
   "outputs": [],
   "source": [
    "doc_df.to_csv('output.csv', index=False)"
   ]
  }
 ],
 "metadata": {
  "kernelspec": {
   "display_name": "Python 3 (ipykernel)",
   "language": "python",
   "name": "python3"
  },
  "language_info": {
   "codemirror_mode": {
    "name": "ipython",
    "version": 3
   },
   "file_extension": ".py",
   "mimetype": "text/x-python",
   "name": "python",
   "nbconvert_exporter": "python",
   "pygments_lexer": "ipython3",
   "version": "3.12.9"
  }
 },
 "nbformat": 4,
 "nbformat_minor": 5
}
