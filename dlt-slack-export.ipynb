{
 "cells": [
  {
   "cell_type": "code",
   "execution_count": 1,
   "id": "bae55ee6-d933-4ae9-9082-c3ad68669e21",
   "metadata": {},
   "outputs": [],
   "source": [
    "from typing import List\n",
    "\n",
    "import dlt\n",
    "import duckdb\n",
    "\n",
    "from pendulum import datetime\n",
    "from slack import slack_source"
   ]
  },
  {
   "cell_type": "code",
   "execution_count": 2,
   "id": "7696bf2a-895c-4436-93ed-6fcdcd30feb0",
   "metadata": {
    "scrolled": true
   },
   "outputs": [
    {
     "name": "stderr",
     "output_type": "stream",
     "text": [
      "INFO:slack:Available channels: ['all-slack-channel-export-test', 'social', 'test-channel', 'export-test']\n",
      "INFO:slack:Selected channels: ['export-test']\n",
      "INFO:slack:>>>>> @table_per_channel\n",
      "INFO:slack:>>>>> @replies\n",
      "2025-03-25 14:51:40,354|[INFO]|24675|8615381056|dlt|pipeline.py|_restore_state_from_destination:1546|The state was restored from the destination duckdb(dlt.destinations.duckdb):slack_export\n",
      "2025-03-25 14:51:40,388|[INFO]|24675|8615381056|dlt|__init__.py|bind:482|Bind incremental on export-test with initial_value: 2025-01-01 00:00:00+00:00, start_value: 2025-01-01 00:00:00+00:00, end_value: 2025-12-31 00:00:00+00:00\n",
      "2025-03-25 14:51:40,389|[INFO]|24675|8615381056|dlt|__init__.py|bind:482|Bind incremental on export-test with initial_value: 2025-01-01 00:00:00+00:00, start_value: 2025-01-01 00:00:00+00:00, end_value: 2025-12-31 00:00:00+00:00\n",
      "INFO:slack:>>>> fetching replies for thread_ts=2025-03-25 20:30:51.309429+00:00 in channel=C08KD7SHTDG\n",
      "INFO:slack:>>>> fetching replies for thread_ts=2025-03-25 20:30:04.227359+00:00 in channel=C08KD7SHTDG\n",
      "2025-03-25 14:51:41,594|[INFO]|24675|8615381056|dlt|pool_runner.py|run_pool:77|Created none pool with 1 workers\n",
      "2025-03-25 14:51:41,594|[INFO]|24675|8615381056|dlt|normalize.py|run:241|Running file normalizing\n",
      "2025-03-25 14:51:41,595|[INFO]|24675|8615381056|dlt|normalize.py|run:244|Found 1 load packages\n",
      "2025-03-25 14:51:41,597|[INFO]|24675|8615381056|dlt|normalize.py|run:267|Found 5 files in schema slack load_id 1742939500.371362\n",
      "2025-03-25 14:51:41,598|[INFO]|24675|8615381056|dlt|normalize.py|spool_schema_files:230|Created new load package 1742939500.371362 on loading volume with \n",
      "2025-03-25 14:51:41,602|[INFO]|24675|8615381056|dlt|worker.py|_get_items_normalizer:172|Created items normalizer JsonLItemsNormalizer with writer InsertValuesWriter for item format object and file format insert_values\n",
      "2025-03-25 14:51:41,604|[INFO]|24675|8615381056|dlt|worker.py|_get_items_normalizer:172|Created items normalizer JsonLItemsNormalizer with writer InsertValuesWriter for item format object and file format insert_values\n",
      "2025-03-25 14:51:41,607|[INFO]|24675|8615381056|dlt|worker.py|_get_items_normalizer:172|Created items normalizer JsonLItemsNormalizer with writer InsertValuesWriter for item format object and file format insert_values\n",
      "2025-03-25 14:51:41,609|[INFO]|24675|8615381056|dlt|worker.py|_get_items_normalizer:172|Created items normalizer JsonLItemsNormalizer with writer InsertValuesWriter for item format object and file format insert_values\n",
      "2025-03-25 14:51:41,610|[INFO]|24675|8615381056|dlt|worker.py|_get_items_normalizer:172|Created items normalizer JsonLItemsNormalizer with writer InsertValuesWriter for item format object and file format insert_values\n",
      "2025-03-25 14:51:41,616|[INFO]|24675|8615381056|dlt|worker.py|w_normalize_files:253|Processed all items in 5 files\n",
      "2025-03-25 14:51:41,617|[INFO]|24675|8615381056|dlt|validate.py|validate_and_update_schema:20|Updating schema for table export_test_replies_message with 1 deltas\n",
      "2025-03-25 14:51:41,617|[INFO]|24675|8615381056|dlt|validate.py|validate_and_update_schema:20|Updating schema for table export_test_replies_message__blocks with 1 deltas\n",
      "2025-03-25 14:51:41,617|[INFO]|24675|8615381056|dlt|validate.py|validate_and_update_schema:20|Updating schema for table export_test_replies_message__blocks__elements with 1 deltas\n",
      "2025-03-25 14:51:41,617|[INFO]|24675|8615381056|dlt|validate.py|validate_and_update_schema:20|Updating schema for table users with 3 deltas\n",
      "2025-03-25 14:51:41,618|[INFO]|24675|8615381056|dlt|normalize.py|spool_files:184|Table export_test_replies_message has seen data for a first time with load id 1742939500.371362\n",
      "2025-03-25 14:51:41,618|[INFO]|24675|8615381056|dlt|normalize.py|spool_files:184|Table export_test_replies_message__blocks has seen data for a first time with load id 1742939500.371362\n",
      "2025-03-25 14:51:41,618|[INFO]|24675|8615381056|dlt|normalize.py|spool_files:184|Table export_test_replies_message__blocks__elements has seen data for a first time with load id 1742939500.371362\n",
      "2025-03-25 14:51:41,618|[INFO]|24675|8615381056|dlt|normalize.py|spool_files:184|Table users has seen data for a first time with load id 1742939500.371362\n",
      "2025-03-25 14:51:41,619|[INFO]|24675|8615381056|dlt|normalize.py|spool_files:190|Saving schema slack with version 5:6\n",
      "2025-03-25 14:51:41,621|[INFO]|24675|8615381056|dlt|normalize.py|spool_files:206|Committing storage, do not kill this process\n",
      "2025-03-25 14:51:41,623|[INFO]|24675|8615381056|dlt|normalize.py|spool_files:212|Extracted package 1742939500.371362 processed\n",
      "2025-03-25 14:51:41,623|[INFO]|24675|8615381056|dlt|pool_runner.py|run_pool:103|Closing processing pool\n",
      "2025-03-25 14:51:41,623|[INFO]|24675|8615381056|dlt|pool_runner.py|run_pool:106|Processing pool closed\n",
      "2025-03-25 14:51:41,634|[INFO]|24675|8615381056|dlt|pool_runner.py|run_pool:77|Created thread pool with 20 workers\n",
      "2025-03-25 14:51:41,635|[INFO]|24675|8615381056|dlt|load.py|run:613|Running file loading\n",
      "2025-03-25 14:51:41,635|[INFO]|24675|8615381056|dlt|load.py|run:616|Found 1 load packages\n",
      "2025-03-25 14:51:41,635|[INFO]|24675|8615381056|dlt|load.py|run:622|Loading schema from load package in 1742939500.371362\n",
      "2025-03-25 14:51:41,636|[INFO]|24675|8615381056|dlt|load.py|run:624|Loaded schema name slack and version 6\n",
      "2025-03-25 14:51:41,650|[INFO]|24675|8615381056|dlt|utils.py|_init_dataset_and_update_schema:157|Client for duckdb will start initialize storage \n",
      "2025-03-25 14:51:41,651|[INFO]|24675|8615381056|dlt|utils.py|_init_dataset_and_update_schema:176|Client for duckdb will update schema to package schema \n",
      "2025-03-25 14:51:41,653|[INFO]|24675|8615381056|dlt|job_client_impl.py|update_stored_schema:192|Schema with hash 9MikJM70NXLbtU54x/h9JZq39BOXtkd5xzhH2zZ7MYw= not found in the storage. upgrading\n",
      "2025-03-25 14:51:41,664|[INFO]|24675|8615381056|dlt|job_client_impl.py|_create_table_update:656|Found 0 updates for _dlt_loads in slack\n",
      "2025-03-25 14:51:41,665|[INFO]|24675|8615381056|dlt|job_client_impl.py|_create_table_update:656|Found 0 updates for _dlt_pipeline_state in slack\n",
      "2025-03-25 14:51:41,665|[INFO]|24675|8615381056|dlt|job_client_impl.py|_create_table_update:656|Found 0 updates for _dlt_version in slack\n",
      "2025-03-25 14:51:41,665|[INFO]|24675|8615381056|dlt|job_client_impl.py|_create_table_update:656|Found 0 updates for channels in slack\n",
      "2025-03-25 14:51:41,665|[INFO]|24675|8615381056|dlt|job_client_impl.py|_create_table_update:656|Found 0 updates for channels__previous_names in slack\n",
      "2025-03-25 14:51:41,665|[INFO]|24675|8615381056|dlt|job_client_impl.py|_create_table_update:656|Found 0 updates for channels__properties__tabs in slack\n",
      "2025-03-25 14:51:41,666|[INFO]|24675|8615381056|dlt|job_client_impl.py|_create_table_update:656|Found 0 updates for channels__properties__tabz in slack\n",
      "2025-03-25 14:51:41,666|[INFO]|24675|8615381056|dlt|job_client_impl.py|_create_table_update:656|Found 0 updates for channels__shared_team_ids in slack\n",
      "2025-03-25 14:51:41,666|[INFO]|24675|8615381056|dlt|job_client_impl.py|_create_table_update:656|Found 0 updates for export_test_channel_join in slack\n",
      "2025-03-25 14:51:41,666|[INFO]|24675|8615381056|dlt|job_client_impl.py|_create_table_update:656|Found 0 updates for export_test_message in slack\n",
      "2025-03-25 14:51:41,666|[INFO]|24675|8615381056|dlt|job_client_impl.py|_create_table_update:656|Found 0 updates for export_test_message__reply_users in slack\n",
      "2025-03-25 14:51:41,667|[INFO]|24675|8615381056|dlt|job_client_impl.py|_create_table_update:656|Found 6 updates for export_test_replies_message__blocks__elements in slack\n",
      "2025-03-25 14:51:41,667|[INFO]|24675|8615381056|dlt|job_client_impl.py|_create_table_update:656|Found 6 updates for export_test_replies_message__blocks in slack\n",
      "2025-03-25 14:51:41,667|[INFO]|24675|8615381056|dlt|job_client_impl.py|_create_table_update:656|Found 11 updates for export_test_replies_message in slack\n",
      "2025-03-25 14:51:41,668|[INFO]|24675|8615381056|dlt|job_client_impl.py|_create_table_update:656|Found 50 updates for users in slack\n",
      "2025-03-25 14:51:41,673|[INFO]|24675|8615381056|dlt|utils.py|_init_dataset_and_update_schema:184|Client for duckdb will truncate tables \n",
      "2025-03-25 14:51:41,678|[INFO]|24675|8615381056|dlt|utils.py|_init_dataset_and_update_schema:157|Client for duckdb will start initialize storage for staging dataset\n",
      "2025-03-25 14:51:41,679|[INFO]|24675|8615381056|dlt|utils.py|_init_dataset_and_update_schema:176|Client for duckdb will update schema to package schema for staging dataset\n",
      "2025-03-25 14:51:41,680|[INFO]|24675|8615381056|dlt|job_client_impl.py|update_stored_schema:192|Schema with hash 9MikJM70NXLbtU54x/h9JZq39BOXtkd5xzhH2zZ7MYw= not found in the storage. upgrading\n",
      "2025-03-25 14:51:41,683|[INFO]|24675|8615381056|dlt|job_client_impl.py|_create_table_update:656|Found 0 updates for _dlt_version in slack\n",
      "2025-03-25 14:51:41,683|[INFO]|24675|8615381056|dlt|job_client_impl.py|_create_table_update:656|Found 0 updates for export_test_channel_join in slack\n",
      "2025-03-25 14:51:41,683|[INFO]|24675|8615381056|dlt|job_client_impl.py|_create_table_update:656|Found 0 updates for export_test_message in slack\n",
      "2025-03-25 14:51:41,684|[INFO]|24675|8615381056|dlt|job_client_impl.py|_create_table_update:656|Found 0 updates for export_test_message__reply_users in slack\n",
      "2025-03-25 14:51:41,684|[INFO]|24675|8615381056|dlt|job_client_impl.py|_create_table_update:656|Found 6 updates for export_test_replies_message__blocks__elements in slack\n",
      "2025-03-25 14:51:41,684|[INFO]|24675|8615381056|dlt|job_client_impl.py|_create_table_update:656|Found 6 updates for export_test_replies_message__blocks in slack\n",
      "2025-03-25 14:51:41,684|[INFO]|24675|8615381056|dlt|job_client_impl.py|_create_table_update:656|Found 11 updates for export_test_replies_message in slack\n",
      "2025-03-25 14:51:41,687|[INFO]|24675|8615381056|dlt|utils.py|_init_dataset_and_update_schema:184|Client for duckdb will truncate tables for staging dataset\n",
      "2025-03-25 14:51:41,689|[INFO]|24675|8615381056|dlt|load.py|resume_started_jobs:290|Found 0 that are already started and should be continued\n",
      "2025-03-25 14:51:41,701|[INFO]|24675|8615381056|dlt|load.py|complete_jobs:390|Will complete 0 for 1742939500.371362\n",
      "2025-03-25 14:51:41,701|[INFO]|24675|8615381056|dlt|load.py|start_new_jobs:273|Will load additional 12, creating jobs\n",
      "2025-03-25 14:51:41,702|[INFO]|24675|8615381056|dlt|load.py|submit_job:168|Will load file 1742939500.371362/new_jobs/export_test_replies_message__blocks.3bd6ea39fd.0.insert_values with table name export_test_replies_message__blocks\n",
      "2025-03-25 14:51:41,703|[INFO]|24675|8615381056|dlt|load.py|submit_job:168|Will load file 1742939500.371362/new_jobs/export_test_replies_message.e668abd7fd.0.insert_values with table name export_test_replies_message\n",
      "2025-03-25 14:51:41,703|[INFO]|24675|8615381056|dlt|load.py|submit_job:168|Will load file 1742939500.371362/new_jobs/users.c2d9b943ed.0.insert_values with table name users\n",
      "2025-03-25 14:51:41,704|[INFO]|24675|8615381056|dlt|load.py|submit_job:168|Will load file 1742939500.371362/new_jobs/channels__previous_names.83f0779513.0.insert_values with table name channels__previous_names\n",
      "2025-03-25 14:51:41,705|[INFO]|24675|8615381056|dlt|load.py|submit_job:168|Will load file 1742939500.371362/new_jobs/export_test_message.c077f9e9bd.0.insert_values with table name export_test_message\n",
      "2025-03-25 14:51:41,705|[INFO]|24675|8615381056|dlt|load.py|submit_job:168|Will load file 1742939500.371362/new_jobs/channels__properties__tabz.04c2bfe38f.0.insert_values with table name channels__properties__tabz\n",
      "2025-03-25 14:51:41,706|[INFO]|24675|8615381056|dlt|load.py|submit_job:168|Will load file 1742939500.371362/new_jobs/export_test_channel_join.b69ad093c2.0.insert_values with table name export_test_channel_join\n",
      "2025-03-25 14:51:41,707|[INFO]|24675|8615381056|dlt|load.py|submit_job:168|Will load file 1742939500.371362/new_jobs/export_test_message__reply_users.dc39d93a45.0.insert_values with table name export_test_message__reply_users\n",
      "2025-03-25 14:51:41,707|[INFO]|24675|8615381056|dlt|load.py|submit_job:168|Will load file 1742939500.371362/new_jobs/channels__properties__tabs.b5ee7a7646.0.insert_values with table name channels__properties__tabs\n",
      "2025-03-25 14:51:41,708|[INFO]|24675|8615381056|dlt|load.py|submit_job:168|Will load file 1742939500.371362/new_jobs/export_test_replies_message__blocks__elements.c92416473e.0.insert_values with table name export_test_replies_message__blocks__elements\n",
      "2025-03-25 14:51:41,709|[INFO]|24675|8615381056|dlt|load.py|submit_job:168|Will load file 1742939500.371362/new_jobs/channels.a175a447d7.0.insert_values with table name channels\n",
      "2025-03-25 14:51:41,710|[INFO]|24675|8615381056|dlt|load.py|submit_job:168|Will load file 1742939500.371362/new_jobs/channels__shared_team_ids.ac5e248c10.0.insert_values with table name channels__shared_team_ids\n",
      "2025-03-25 14:51:41,716|[INFO]|24675|8615381056|dlt|load.py|complete_jobs:390|Will complete 12 for 1742939500.371362\n",
      "2025-03-25 14:51:41,718|[INFO]|24675|8615381056|dlt|load.py|complete_jobs:459|Job for export_test_replies_message__blocks.3bd6ea39fd.insert_values completed in load 1742939500.371362\n",
      "2025-03-25 14:51:41,719|[INFO]|24675|8615381056|dlt|load.py|complete_jobs:459|Job for export_test_replies_message.e668abd7fd.insert_values completed in load 1742939500.371362\n",
      "2025-03-25 14:51:41,720|[INFO]|24675|8615381056|dlt|load.py|complete_jobs:459|Job for users.c2d9b943ed.insert_values completed in load 1742939500.371362\n",
      "2025-03-25 14:51:41,720|[INFO]|24675|8615381056|dlt|load.py|complete_jobs:459|Job for channels__previous_names.83f0779513.insert_values completed in load 1742939500.371362\n",
      "2025-03-25 14:51:41,721|[INFO]|24675|8615381056|dlt|load.py|complete_jobs:459|Job for export_test_message.c077f9e9bd.insert_values completed in load 1742939500.371362\n",
      "2025-03-25 14:51:41,721|[INFO]|24675|8615381056|dlt|load.py|complete_jobs:459|Job for channels__properties__tabz.04c2bfe38f.insert_values completed in load 1742939500.371362\n",
      "2025-03-25 14:51:41,722|[INFO]|24675|8615381056|dlt|load.py|create_followup_jobs:368|Job export_test_channel_join.b69ad093c2.insert_values CREATED a new FOLLOWUP JOB /var/folders/tq/7m8xdcc55q1dmywqr46rfgpc0000gn/T/export_test_channel_join.798d9b687a.0.sql placed in new_jobs\n",
      "2025-03-25 14:51:41,723|[INFO]|24675|8615381056|dlt|load.py|complete_jobs:459|Job for export_test_channel_join.b69ad093c2.insert_values completed in load 1742939500.371362\n",
      "2025-03-25 14:51:41,724|[INFO]|24675|8615381056|dlt|load.py|create_followup_jobs:368|Job export_test_message__reply_users.dc39d93a45.insert_values CREATED a new FOLLOWUP JOB /var/folders/tq/7m8xdcc55q1dmywqr46rfgpc0000gn/T/export_test_message.dfb77f1cc3.0.sql placed in new_jobs\n",
      "2025-03-25 14:51:41,724|[INFO]|24675|8615381056|dlt|load.py|complete_jobs:459|Job for export_test_message__reply_users.dc39d93a45.insert_values completed in load 1742939500.371362\n",
      "2025-03-25 14:51:41,725|[INFO]|24675|8615381056|dlt|load.py|complete_jobs:459|Job for channels__properties__tabs.b5ee7a7646.insert_values completed in load 1742939500.371362\n",
      "2025-03-25 14:51:41,726|[INFO]|24675|8615381056|dlt|load.py|create_followup_jobs:368|Job export_test_replies_message__blocks__elements.c92416473e.insert_values CREATED a new FOLLOWUP JOB /var/folders/tq/7m8xdcc55q1dmywqr46rfgpc0000gn/T/export_test_replies_message.8a97d3fe34.0.sql placed in new_jobs\n",
      "2025-03-25 14:51:41,727|[INFO]|24675|8615381056|dlt|load.py|complete_jobs:459|Job for export_test_replies_message__blocks__elements.c92416473e.insert_values completed in load 1742939500.371362\n",
      "2025-03-25 14:51:41,728|[INFO]|24675|8615381056|dlt|load.py|complete_jobs:459|Job for channels.a175a447d7.insert_values completed in load 1742939500.371362\n",
      "2025-03-25 14:51:41,729|[INFO]|24675|8615381056|dlt|load.py|complete_jobs:459|Job for channels__shared_team_ids.ac5e248c10.insert_values completed in load 1742939500.371362\n",
      "2025-03-25 14:51:41,729|[INFO]|24675|8615381056|dlt|load.py|start_new_jobs:273|Will load additional 3, creating jobs\n",
      "2025-03-25 14:51:41,729|[INFO]|24675|8615381056|dlt|load.py|submit_job:168|Will load file 1742939500.371362/new_jobs/export_test_channel_join.798d9b687a.0.sql with table name export_test_channel_join\n",
      "2025-03-25 14:51:41,730|[INFO]|24675|8615381056|dlt|load.py|submit_job:168|Will load file 1742939500.371362/new_jobs/export_test_message.dfb77f1cc3.0.sql with table name export_test_message\n",
      "2025-03-25 14:51:41,730|[INFO]|24675|8615381056|dlt|load.py|submit_job:168|Will load file 1742939500.371362/new_jobs/export_test_replies_message.8a97d3fe34.0.sql with table name export_test_replies_message\n",
      "2025-03-25 14:51:41,764|[INFO]|24675|8615381056|dlt|load.py|complete_jobs:390|Will complete 3 for 1742939500.371362\n",
      "2025-03-25 14:51:41,765|[INFO]|24675|8615381056|dlt|load.py|complete_jobs:459|Job for export_test_channel_join.798d9b687a.sql completed in load 1742939500.371362\n",
      "2025-03-25 14:51:41,765|[INFO]|24675|8615381056|dlt|load.py|start_new_jobs:273|Will load additional 0, creating jobs\n",
      "2025-03-25 14:51:41,766|[INFO]|24675|8615381056|dlt|load.py|complete_jobs:390|Will complete 2 for 1742939500.371362\n",
      "2025-03-25 14:51:41,766|[INFO]|24675|8615381056|dlt|load.py|complete_jobs:459|Job for export_test_message.dfb77f1cc3.sql completed in load 1742939500.371362\n",
      "2025-03-25 14:51:41,767|[INFO]|24675|8615381056|dlt|load.py|complete_jobs:459|Job for export_test_replies_message.8a97d3fe34.sql completed in load 1742939500.371362\n",
      "2025-03-25 14:51:41,767|[INFO]|24675|8615381056|dlt|load.py|start_new_jobs:273|Will load additional 0, creating jobs\n",
      "2025-03-25 14:51:41,812|[INFO]|24675|8615381056|dlt|load.py|complete_package:496|All jobs completed, archiving package 1742939500.371362 with aborted set to False\n",
      "2025-03-25 14:51:41,812|[INFO]|24675|8615381056|dlt|pool_runner.py|run_pool:103|Closing processing pool\n",
      "2025-03-25 14:51:41,813|[INFO]|24675|8615381056|dlt|pool_runner.py|run_pool:106|Processing pool closed\n"
     ]
    },
    {
     "name": "stdout",
     "output_type": "stream",
     "text": [
      "Pipeline slack load step completed in 0.18 seconds\n",
      "1 load package(s) were loaded to destination duckdb and into dataset slack_export\n",
      "The duckdb destination used duckdb:////Users/gregw/Documents/programming/dlt-slack-channel-export/slack.duckdb location to store data\n",
      "Load package 1742939500.371362 is LOADED and contains no failed jobs\n"
     ]
    }
   ],
   "source": [
    "# gets the Slack conversations, but not the replies...\n",
    "pipeline = dlt.pipeline(\n",
    "    pipeline_name=\"slack\", destination='duckdb', dataset_name=\"slack_export\"\n",
    ")\n",
    "\n",
    "source = slack_source(\n",
    "    page_size=20,\n",
    "    start_date=datetime(2025, 1, 1),\n",
    "    end_date=datetime(2025, 12, 31),\n",
    "    replies=True,\n",
    "    selected_channels=['export-test']\n",
    ")\n",
    "\n",
    "load_info = pipeline.run(\n",
    "    source,\n",
    ")\n",
    "print(load_info)"
   ]
  },
  {
   "cell_type": "code",
   "execution_count": 3,
   "id": "cc52381f-6071-41b0-8c41-f2c29903f842",
   "metadata": {},
   "outputs": [],
   "source": [
    "con = duckdb.connect('slack.duckdb')"
   ]
  },
  {
   "cell_type": "code",
   "execution_count": 4,
   "id": "c8a925b4-7d8d-4f69-99be-f9dd88a78db2",
   "metadata": {
    "scrolled": true
   },
   "outputs": [
    {
     "data": {
      "text/plain": [
       "[('channels',),\n",
       " ('channels__previous_names',),\n",
       " ('channels__properties__tabs',),\n",
       " ('channels__properties__tabz',),\n",
       " ('channels__shared_team_ids',),\n",
       " ('export_test_channel_join',),\n",
       " ('export_test_message',),\n",
       " ('export_test_message__reply_users',),\n",
       " ('export_test_replies_message',),\n",
       " ('export_test_replies_message__blocks',),\n",
       " ('export_test_replies_message__blocks__elements',),\n",
       " ('users',),\n",
       " ('_dlt_loads',),\n",
       " ('_dlt_pipeline_state',),\n",
       " ('_dlt_version',)]"
      ]
     },
     "execution_count": 4,
     "metadata": {},
     "output_type": "execute_result"
    }
   ],
   "source": [
    "con.execute(\"SELECT table_name FROM information_schema.tables WHERE table_schema = 'slack_export';\").fetchall()"
   ]
  },
  {
   "cell_type": "code",
   "execution_count": 6,
   "id": "7f37c7e5-f3bb-4912-a25e-e59ec805f3d1",
   "metadata": {},
   "outputs": [
    {
     "data": {
      "text/plain": [
       "[('[{\"type\":\"rich_text\",\"block_id\":\"xWfFu\",\"elements\":[{\"type\":\"rich_text_section\",\"elements\":[{\"type\":\"text\",\"text\":\"Conversation #2 start\"}]}]}]',\n",
       "  'U08JBSW64Q2',\n",
       "  'message',\n",
       "  datetime.datetime(2025, 3, 25, 13, 30, 51, 309429, tzinfo=<DstTzInfo 'America/Los_Angeles' PDT-1 day, 17:00:00 DST>),\n",
       "  'e9beeca5-0d88-4a34-8464-7ea555e9c4a3',\n",
       "  'Conversation #2 start',\n",
       "  'T08J3DV7EK0',\n",
       "  datetime.datetime(2025, 3, 25, 13, 30, 51, 309429, tzinfo=<DstTzInfo 'America/Los_Angeles' PDT-1 day, 17:00:00 DST>),\n",
       "  2,\n",
       "  2,\n",
       "  datetime.datetime(2025, 3, 25, 13, 31, 19, 83469, tzinfo=<DstTzInfo 'America/Los_Angeles' PDT-1 day, 17:00:00 DST>),\n",
       "  False,\n",
       "  False,\n",
       "  'C08KD7SHTDG',\n",
       "  '1742939500.371362',\n",
       "  '5VzS2iIBFWlCyg'),\n",
       " ('[{\"type\":\"rich_text\",\"block_id\":\"PSlyf\",\"elements\":[{\"type\":\"rich_text_section\",\"elements\":[{\"type\":\"text\",\"text\":\"Conversation #1 start\"}]}]}]',\n",
       "  'U08J3DV7SAJ',\n",
       "  'message',\n",
       "  datetime.datetime(2025, 3, 25, 13, 30, 4, 227359, tzinfo=<DstTzInfo 'America/Los_Angeles' PDT-1 day, 17:00:00 DST>),\n",
       "  '4f5960f2-1177-4a4b-8841-23266e407774',\n",
       "  'Conversation #1 start',\n",
       "  'T08J3DV7EK0',\n",
       "  datetime.datetime(2025, 3, 25, 13, 30, 4, 227359, tzinfo=<DstTzInfo 'America/Los_Angeles' PDT-1 day, 17:00:00 DST>),\n",
       "  2,\n",
       "  2,\n",
       "  datetime.datetime(2025, 3, 25, 13, 30, 39, 154549, tzinfo=<DstTzInfo 'America/Los_Angeles' PDT-1 day, 17:00:00 DST>),\n",
       "  False,\n",
       "  False,\n",
       "  'C08KD7SHTDG',\n",
       "  '1742939500.371362',\n",
       "  '1uACJozX7rAlZg')]"
      ]
     },
     "execution_count": 6,
     "metadata": {},
     "output_type": "execute_result"
    }
   ],
   "source": [
    "con.execute(\"SELECT * FROM slack_export.export_test_message;\").fetchall()"
   ]
  },
  {
   "cell_type": "code",
   "execution_count": 5,
   "id": "a8c5eb99-c9fb-44b8-9638-41752213ab9d",
   "metadata": {},
   "outputs": [
    {
     "data": {
      "text/plain": [
       "[('U08J3DV7SAJ',\n",
       "  'message',\n",
       "  '1742934671.322699',\n",
       "  '204d24a8-d112-4bcd-b1de-7db9d9cde154',\n",
       "  'Conversation #2 | response #1',\n",
       "  'T08J3DV7EK0',\n",
       "  '1742934651.309429',\n",
       "  'U08JBSW64Q2',\n",
       "  'C08KD7SHTDG',\n",
       "  '1742939500.371362',\n",
       "  'tcWiphnFz5NUZQ'),\n",
       " ('U08JBSW64Q2',\n",
       "  'message',\n",
       "  '1742934679.083469',\n",
       "  '77685ecb-968e-4562-b66d-4edb5d25ce7d',\n",
       "  'Conversation #2 | response #2',\n",
       "  'T08J3DV7EK0',\n",
       "  '1742934651.309429',\n",
       "  'U08JBSW64Q2',\n",
       "  'C08KD7SHTDG',\n",
       "  '1742939500.371362',\n",
       "  'x8b8Yzt0N+tG/A'),\n",
       " ('U08JBSW64Q2',\n",
       "  'message',\n",
       "  '1742934627.186739',\n",
       "  '3781b19a-2c7f-44ba-9176-3599f305cd8c',\n",
       "  'conversation #1 | response #1',\n",
       "  'T08J3DV7EK0',\n",
       "  '1742934604.227359',\n",
       "  'U08J3DV7SAJ',\n",
       "  'C08KD7SHTDG',\n",
       "  '1742939500.371362',\n",
       "  '2InXjTFjMHjYBw'),\n",
       " ('U08J3DV7SAJ',\n",
       "  'message',\n",
       "  '1742934639.154549',\n",
       "  'f16ff198-d68c-4ddf-8939-750d1306ac53',\n",
       "  'conversation #1 | response #2',\n",
       "  'T08J3DV7EK0',\n",
       "  '1742934604.227359',\n",
       "  'U08J3DV7SAJ',\n",
       "  'C08KD7SHTDG',\n",
       "  '1742939500.371362',\n",
       "  '3PBE5LH/w9yGKA')]"
      ]
     },
     "execution_count": 5,
     "metadata": {},
     "output_type": "execute_result"
    }
   ],
   "source": [
    "con.execute(\"SELECT * FROM slack_export.export_test_replies_message;\").fetchall()"
   ]
  }
 ],
 "metadata": {
  "kernelspec": {
   "display_name": "Python 3 (ipykernel)",
   "language": "python",
   "name": "python3"
  },
  "language_info": {
   "codemirror_mode": {
    "name": "ipython",
    "version": 3
   },
   "file_extension": ".py",
   "mimetype": "text/x-python",
   "name": "python",
   "nbconvert_exporter": "python",
   "pygments_lexer": "ipython3",
   "version": "3.12.9"
  }
 },
 "nbformat": 4,
 "nbformat_minor": 5
}
